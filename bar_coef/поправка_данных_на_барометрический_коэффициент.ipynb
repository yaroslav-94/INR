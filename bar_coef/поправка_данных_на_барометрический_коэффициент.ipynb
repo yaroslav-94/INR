{
 "cells": [
  {
   "cell_type": "code",
   "execution_count": 1,
   "metadata": {
    "scrolled": true
   },
   "outputs": [],
   "source": [
    "import os\n",
    "import scipy\n",
    "import warnings\n",
    "import math\n",
    "\n",
    "import pandas            as pd\n",
    "import matplotlib.pyplot as plt\n",
    "import numpy             as np\n",
    "import seaborn           as sns\n",
    "import scipy.stats       as stats\n",
    "\n",
    "from scipy.optimize    import curve_fit\n",
    "from scipy.stats.stats import pearsonr\n",
    "from datetime       import datetime\n",
    "\n",
    "from tqdm import tqdm_notebook as tqdm\n",
    "\n",
    "def func_linear(x, k, c):\n",
    "    return k*x+c\n",
    "def func_gauss(x, sigm, mu, A):\n",
    "    return np.exp(-((x-mu)**2)/(2*sigm**2))*A\n",
    "warnings.simplefilter('ignore')"
   ]
  },
  {
   "cell_type": "code",
   "execution_count": 2,
   "metadata": {},
   "outputs": [],
   "source": [
    "PATH = r\"D:\\INR\\variations\\MEPHI10-18\""
   ]
  },
  {
   "cell_type": "markdown",
   "metadata": {},
   "source": [
    "# Чтение данных за годы с установки и запись их в файл: давление и темп счета нейтронов (2012 - 2018)\n",
    "\n",
    "Измерения с детекторов снимаются раз в 5 минут. Соответсвенно можно усреднять показания по 30 минут, 1 и 2 часам"
   ]
  },
  {
   "cell_type": "code",
   "execution_count": 3,
   "metadata": {
    "scrolled": false
   },
   "outputs": [
    {
     "data": {
      "application/vnd.jupyter.widget-view+json": {
       "model_id": "df241cc32f384d4a811d9bd6125f75a5",
       "version_major": 2,
       "version_minor": 0
      },
      "text/plain": [
       "  0%|          | 0/7 [00:00<?, ?it/s]"
      ]
     },
     "metadata": {},
     "output_type": "display_data"
    }
   ],
   "source": [
    "new_names = ['Neutr1', 'Neutr2', 'Neutr3', 'Neutr4','Pressure', 'T, C', 'Humidity']\n",
    "Itog = pd.DataFrame(columns = new_names)\n",
    "\n",
    "#Чтение данных\n",
    "for I in tqdm(range(12,19,1)):\n",
    "    directory = PATH+ r\"/20%s\" %str(I)\n",
    "    files = os.listdir(directory) \n",
    "    for i in (files):\n",
    "        s=str(i)\n",
    "        if (len(s)== 10):\n",
    "            data1 = pd.read_csv(PATH+ r\"\\20%s\\%s\" %(str(I),i), names = new_names, delim_whitespace = True, \n",
    "                                usecols = [1,2,3,4,9,10,11])\n",
    "            \n",
    "            data1['D'] = int( s[5:7:1] )\n",
    "            data1['M'] = int( s[2:4:1] )\n",
    "            data1['Y'] = int( '20'+s[8:] )\n",
    "            \n",
    "            data1.drop_duplicates(subset = 'Pressure', keep = 'first', inplace = True)\n",
    "            data1.drop_duplicates(subset = 'T, C',     keep = 'first', inplace = True)\n",
    "            data1.drop_duplicates(subset = 'Humidity', keep = 'first', inplace = True)\n",
    "            \n",
    "            for d in range(0,data1.shape[0],1):\n",
    "                data1.loc[d, 'H'] = (d//12)\n",
    "                \n",
    "            for d in range(0,(data1.shape[0]//24),1):\n",
    "                data1.loc[data1['H'] == d, 'Neutr1'] = data1[data1['H'] == d]['Neutr1'].mean()\n",
    "                data1.loc[data1['H'] == d, 'Neutr2'] = data1[data1['H'] == d]['Neutr2'].mean()\n",
    "                data1.loc[data1['H'] == d, 'Neutr3'] = data1[data1['H'] == d]['Neutr3'].mean()\n",
    "                data1.loc[data1['H'] == d, 'Neutr4'] = data1[data1['H'] == d]['Neutr4'].mean()\n",
    "                                        \n",
    "            data1.drop_duplicates(subset = 'H', keep = 'first', inplace = True)   \n",
    "            data1.dropna(inplace = True)\n",
    "            Itog = pd.merge(Itog, data1, how = 'outer')\n",
    "    Itog = Itog[Itog['Neutr1']>0][Itog['Neutr2']>0][Itog['Neutr3']>0][Itog['Neutr4']>0][Itog['H']<24]\n",
    "    \n",
    "    #Запись данных в файл                \n",
    "    Itog.to_csv(PATH+ r\"/Result_onlydata_1h.txt\", sep = ' ', header = False, index = False, mode ='a+') \n",
    "    Itog = pd.DataFrame(columns = new_names)    \n",
    "    \n",
    "# Для часового разбиения\n",
    "new_names = ['Neutr1', 'Neutr2', 'Neutr3', 'Neutr4','Pressure', 'T, C', 'Humidity', 'D', 'M', 'Y', 'H']\n",
    "Itog = pd.read_csv(PATH+ r\"\\Result_onlydata_1h.txt\", names = new_names, delim_whitespace = True)\n",
    "Itog['date'] = pd.to_datetime(Itog.apply(lambda x: str(int(x['D']))+'-'+str(int(x['M']))+'-'+str(int(x['Y']))+' '+str(int(x['H']))+':'+str(0),\n",
    "                                        axis=1), format = \"%d-%m-%Y %H:%M\", yearfirst = False, dayfirst = True)\n",
    "# Для часового разбиения\n",
    "\n",
    "#Для получсаового и двух часового разбиения\n",
    "# new_names = ['Neutr1', 'Neutr2', 'Neutr3', 'Neutr4','Pressure', 'T, C', 'Humidity', 'D', 'M', 'Y', 'H']\n",
    "# Itog = pd.read_csv(r\"D:\\variations\\MEPHI10-18\\Result_onlydata_2h.txt\", names = new_names, delim_whitespace = True)\n",
    "# Itog['date'] = pd.to_datetime(Itog.apply(lambda x: str(int(x['D']))+'-'+str(int(x['M']))+'-'+str(int(x['Y'])),axis=1), \n",
    "#                               format = \"%d-%m-%Y\", yearfirst = False, dayfirst = True)  \n",
    "#Для получсаового и двух часового разбиения\n",
    "\n",
    "Itog = Itog[Itog['date']<'2018-05-01']\n",
    "Itog.to_csv(PATH+ r\"/1h/Result_onlydata_1h.txt\", sep = ' ', header = False, index = False, mode ='w') \n",
    "\n",
    "for i in range(2012,2019,1):\n",
    "    for j in range(1,5,1):\n",
    "        plt.figure(figsize = (20, 10))\n",
    "        plt.plot(Itog[Itog['Y']==i]['date'],Itog[Itog['Y']==i]['Neutr%s'%j],'.')\n",
    "        plt.grid(True, linestyle='--', color='0.75')\n",
    "        plt.savefig(PATH+ r\"/pictures/%s/real_data_det%s.png\" %(str(i), str(j) )) \n",
    "        plt.close()\n",
    "        \n",
    "# За все время\n",
    "for j in range(1,5,1):\n",
    "    plt.figure(figsize = (20, 10))\n",
    "    plt.plot(Itog['date'],Itog['Neutr%s'%j],'.')\n",
    "    plt.grid(True, linestyle='--', color='0.75')\n",
    "    plt.savefig(PATH+ r\"/pictures/%s/real_data_all_det%s.png\" %(str(i), str(j) )) \n",
    "    plt.close()"
   ]
  },
  {
   "cell_type": "markdown",
   "metadata": {},
   "source": [
    "## Чистка предварительная (уходят выбросы в каждом детекторе)"
   ]
  },
  {
   "cell_type": "code",
   "execution_count": 4,
   "metadata": {
    "scrolled": true
   },
   "outputs": [
    {
     "data": {
      "application/vnd.jupyter.widget-view+json": {
       "model_id": "b1069c8fd1334eeaa783db4e3847f742",
       "version_major": 2,
       "version_minor": 0
      },
      "text/plain": [
       "  0%|          | 0/7 [00:00<?, ?it/s]"
      ]
     },
     "metadata": {},
     "output_type": "display_data"
    }
   ],
   "source": [
    "new_names = ['Neutr1', 'Neutr2', 'Neutr3', 'Neutr4','Pressure', 'T, C', 'Humidity', 'D', 'M', 'Y', 'H', 'date']\n",
    "Itog = pd.read_csv(PATH+ r\"\\1h\\Result_onlydata_1h.txt\", names = new_names, delim_whitespace = True)\n",
    "# Для часового разбиения\n",
    "Itog['date'] = pd.to_datetime(Itog.apply(lambda x: str(int(x['D']))+'-'+str(int(x['M']))+'-'+str(int(x['Y']))+' '+str(int(x['H']))+':'+str(0),\n",
    "                                         axis=1), format = \"%d-%m-%Y %H:%M\", yearfirst = False, dayfirst = True)\n",
    "# Для часового разбиения\n",
    "# Чистка по первому детектору\n",
    "    # 2012\n",
    "Itog = Itog.drop(Itog.loc[ ((Itog['Y']==2012)&(Itog['Neutr1']<76)) ].index)\n",
    "Itog = Itog.drop(Itog.loc[ ((Itog['Y']==2012)&(Itog['Neutr1']>120)) ].index)\n",
    "    # 2013 \n",
    "Itog = Itog.drop(Itog.loc[ ((Itog['Y']==2013)&(Itog['Neutr1']<80)) ].index)\n",
    "Itog = Itog.drop(Itog.loc[ ((Itog['Y']==2013)&(Itog['Neutr1']>120)) ].index)\n",
    "    # 2014\n",
    "Itog = Itog.drop(Itog.loc[ ((Itog['Y']==2014)&(Itog['Neutr1']<75)) ].index)\n",
    "Itog = Itog.drop(Itog.loc[ ((Itog['Y']==2014)&(Itog['Neutr1']>125)) ].index)\n",
    "    # 2015\n",
    "Itog = Itog.drop(Itog.loc[ ((Itog['Y']==2015)&(Itog['Neutr1']<75)) ].index)\n",
    "Itog = Itog.drop(Itog.loc[ ((Itog['Y']==2015)&(Itog['Neutr1']>120)) ].index)\n",
    "    # 2016\n",
    "Itog = Itog.drop(Itog.loc[ ((Itog['Y']==2016)&(Itog['Neutr1']<85)) ].index)\n",
    "Itog = Itog.drop(Itog.loc[ ((Itog['Y']==2016)&(Itog['Neutr1']>120)) ].index)\n",
    "    # 2017\n",
    "Itog = Itog.drop(Itog.loc[ ( (Itog['date']<'25-08-2017 0:0')&(Itog['Neutr1']<80) &(Itog['date']>='01-01-2017 0:0') ) ].index)\n",
    "Itog = Itog.drop(Itog.loc[ ( (Itog['date']<'25-08-2017 0:0')&(Itog['Neutr1']>120)&(Itog['date']>='01-01-2017 0:0') ) ].index)\n",
    "Itog = Itog.drop(Itog.loc[ ( (Itog['date']>'25-08-2017 0:0')&(Itog['Neutr1']>160)&(Itog['date']<'01-01-2018 0:0') ) ].index)\n",
    "Itog = Itog.drop(Itog.loc[ ( (Itog['date']>'25-08-2017 0:0')&(Itog['Neutr1']>100)&(Itog['date']<'01-01-2018 0:0') ) ].index)\n",
    "    # 2018\n",
    "Itog = Itog.drop(Itog.loc[ ((Itog['Y']==2018)&(Itog['Neutr1']<100)) ].index)\n",
    "Itog = Itog.drop(Itog.loc[ ((Itog['Y']==2018)&(Itog['Neutr1']>150)) ].index)\n",
    "# Чистка по первому детектору\n",
    "\n",
    "\n",
    "\n",
    "# Чистка по второму детектору\n",
    "    # 2012\n",
    "Itog = Itog.drop(Itog.loc[ ((Itog['Y']==2012)&(Itog['Neutr2']<275)) ].index)\n",
    "Itog = Itog.drop(Itog.loc[ ((Itog['Y']==2012)&(Itog['Neutr2']>450)) ].index)\n",
    "    # 2013\n",
    "Itog = Itog.drop(Itog.loc[ ((Itog['Y']==2013)&(Itog['Neutr2']<280)&(Itog['M']<=4) ) ].index)\n",
    "Itog = Itog.drop(Itog.loc[ ((Itog['Y']==2013)&(Itog['Neutr2']>450)&(Itog['M']<=4) ) ].index)\n",
    "Itog = Itog.drop(Itog.loc[ ((Itog['Y']==2013)&(Itog['Neutr2']>450)&(Itog['M']>=7)&(Itog['M']<12)) ].index)\n",
    "Itog = Itog.drop(Itog.loc[ ((Itog['Y']==2013)&(Itog['Neutr2']<280)&(Itog['M']>=7)&(Itog['M']<12)) ].index)\n",
    "    # 2014\n",
    "Itog = Itog.drop(Itog.loc[ ((Itog['Y']==2014)&(Itog['Neutr2']<250)) ].index)\n",
    "Itog = Itog.drop(Itog.loc[ ((Itog['Y']==2014)&(Itog['Neutr2']>500)) ].index)\n",
    "    # 2015\n",
    "Itog = Itog.drop(Itog.loc[ ((Itog['Y']==2015)&(Itog['Neutr2']>430)) ].index)\n",
    "    # 2016\n",
    "Itog = Itog.drop(Itog.loc[ ((Itog['Y']==2016)&(Itog['Neutr2']<260)) ].index)\n",
    "Itog = Itog.drop(Itog.loc[ ((Itog['Y']==2016)&(Itog['Neutr2']>440)) ].index)\n",
    "    # 2017\n",
    "Itog = Itog.drop(Itog.loc[ ((Itog['Y']==2017)&(Itog['Neutr2']<275)) ].index)\n",
    "Itog = Itog.drop(Itog.loc[ ((Itog['Y']==2017)&(Itog['Neutr2']>500)) ].index)  \n",
    "    # 2018\n",
    "Itog = Itog.drop(Itog.loc[ ((Itog['Y']==2018)&(Itog['Neutr2']<280)) ].index)\n",
    "Itog = Itog.drop(Itog.loc[ ((Itog['Y']==2018)&(Itog['Neutr2']>450)) ].index)\n",
    "# Чистка по второму детектору\n",
    "\n",
    "\n",
    "\n",
    "# Чистка по третьему детектору\n",
    "    # 2012\n",
    "Itog = Itog.drop(Itog.loc[ ((Itog['Y']==2012)&(Itog['Neutr3']<225)) ].index)\n",
    "Itog = Itog.drop(Itog.loc[ ((Itog['Y']==2012)&(Itog['Neutr3']>390)) ].index)\n",
    "    # 2013\n",
    "Itog = Itog.drop(Itog.loc[ ((Itog['Y']==2013)&(Itog['Neutr3']<275)) ].index)\n",
    "Itog = Itog.drop(Itog.loc[ ((Itog['Y']==2013)&(Itog['Neutr3']>390)) ].index)\n",
    "    # 2014\n",
    "Itog = Itog.drop(Itog.loc[ ((Itog['Y']==2014)&(Itog['Neutr3']<230)) ].index)\n",
    "    # 2015\n",
    "Itog = Itog.drop(Itog.loc[ ((Itog['Y']==2015)&(Itog['Neutr3']<250)) ].index)\n",
    "Itog = Itog.drop(Itog.loc[ ((Itog['Y']==2015)&(Itog['Neutr3']>400)) ].index)\n",
    "    # 2016\n",
    "Itog = Itog.drop(Itog.loc[ ((Itog['Y']==2016)&(Itog['Neutr3']<290)) ].index)\n",
    "Itog = Itog.drop(Itog.loc[ ((Itog['Y']==2016)&(Itog['Neutr3']>400)) ].index)\n",
    "    # 2017\n",
    "Itog = Itog.drop(Itog.loc[ ((Itog['Y']==2017)&(Itog['Neutr3']<275)) ].index)\n",
    "Itog = Itog.drop(Itog.loc[ ((Itog['Y']==2017)&(Itog['Neutr3']>450)) ].index)\n",
    "    # 2018\n",
    "Itog = Itog.drop(Itog.loc[ ((Itog['Y']==2018)&(Itog['Neutr3']<280)) ].index)\n",
    "Itog = Itog.drop(Itog.loc[ ((Itog['Y']==2018)&(Itog['Neutr3']>420)) ].index)\n",
    "# Чистка по третьему детектору\n",
    "\n",
    "\n",
    "\n",
    "# Чистка по четвертому детектору\n",
    "    # 2012\n",
    "Itog = Itog.drop(Itog.loc[ ((Itog['Y']==2012)&(Itog['Neutr4']<250)) ].index)\n",
    "Itog = Itog.drop(Itog.loc[ ((Itog['Y']==2012)&(Itog['Neutr4']>430)) ].index)\n",
    "    # 2013\n",
    "Itog = Itog.drop(Itog.loc[ ((Itog['Y']==2013)&(Itog['Neutr4']<270)) ].index)\n",
    "Itog = Itog.drop(Itog.loc[ ((Itog['Y']==2013)&(Itog['Neutr4']>400)) ].index)\n",
    "    # 2014\n",
    "Itog = Itog.drop(Itog.loc[ ((Itog['Y']==2014)&(Itog['Neutr4']<250)) ].index)\n",
    "    # 2016\n",
    "Itog = Itog.drop(Itog.loc[ ((Itog['Y']==2016)&(Itog['Neutr4']<340)) ].index)\n",
    "    # 2017\n",
    "Itog = Itog.drop(Itog.loc[ ((Itog['Y']==2017)&(Itog['Neutr4']<340)) ].index)\n",
    "Itog = Itog.drop(Itog.loc[ ((Itog['Y']==2017)&(Itog['Neutr4']>575)) ].index)\n",
    "    # 2018\n",
    "Itog = Itog.drop(Itog.loc[ ((Itog['Y']==2018)&(Itog['Neutr4']<375)) ].index)\n",
    "Itog = Itog.drop(Itog.loc[ ((Itog['Y']==2018)&(Itog['Neutr4']>540)) ].index)\n",
    "# Чистка по четвертому детектору\n",
    "\n",
    "\n",
    "# Построение графиков очищенного темпа счета по годам\n",
    "for i in tqdm( range(2012,2019,1) ):\n",
    "    for j in range(1,5,1):\n",
    "        plt.figure(figsize = (20, 10))\n",
    "        plt.plot(Itog[Itog['Y']==i]['date'],Itog[Itog['Y']==i]['Neutr%s'%j],'.')\n",
    "        plt.grid(True, linestyle='--', color='0.75')\n",
    "        plt.savefig(PATH+ r\"/pictures/%s/real_data_clear_det%s.png\" %( str(i),str(j) )  ) \n",
    "        plt.close()\n",
    "\n",
    "# Усреднение данных за месяц \n",
    "'''\n",
    "for i in tqdm( range (2012,2019,1) ):\n",
    "    for j in range(1,13,1):\n",
    "        if (Itog[Itog['Y']==i][Itog['M']==j].shape[0]>1):\n",
    "            Itog.loc[(Itog['Y']==i)&(Itog['M']==j),'Neutr1'] = Itog[Itog['Y']==i][Itog['M']==j]['Neutr1']/Itog[Itog['Y']==i][Itog['M']==j]['Neutr1'].mean()\n",
    "            \n",
    "            Itog.loc[(Itog['Y']==i)&(Itog['M']==j),'Neutr2'] = Itog[Itog['Y']==i][Itog['M']==j]['Neutr2']/Itog[Itog['Y']==i][Itog['M']==j]['Neutr2'].mean()\n",
    "            \n",
    "            Itog.loc[(Itog['Y']==i)&(Itog['M']==j),'Neutr3'] = Itog[Itog['Y']==i][Itog['M']==j]['Neutr3']/Itog[Itog['Y']==i][Itog['M']==j]['Neutr3'].mean()\n",
    "            \n",
    "            Itog.loc[(Itog['Y']==i)&(Itog['M']==j),'Neutr4'] = Itog[Itog['Y']==i][Itog['M']==j]['Neutr4']/Itog[Itog['Y']==i][Itog['M']==j]['Neutr4'].mean()\n",
    "            \n",
    "Itog = Itog[Itog['Neutr1']<2][Itog['Neutr2']<2][Itog['Neutr3']<2][Itog['Neutr4']<2]\n",
    "'''\n",
    "Itog.to_csv(PATH+ r\"/1h/Result_corrected_step1_1h.txt\", sep = ' ', header = False, index = False, mode ='w')        "
   ]
  },
  {
   "cell_type": "markdown",
   "metadata": {
    "scrolled": false
   },
   "source": [
    "### Построение графиков для барометрического коэффициента\n",
    "### Очистка данных в пределах 3 сигм"
   ]
  },
  {
   "cell_type": "code",
   "execution_count": null,
   "metadata": {},
   "outputs": [],
   "source": []
  },
  {
   "cell_type": "code",
   "execution_count": 30,
   "metadata": {
    "scrolled": true
   },
   "outputs": [
    {
     "name": "stdout",
     "output_type": "stream",
     "text": [
      "Границы для 3 сигм\n",
      "76.0 122.08333333333331\n",
      "256.0 447.8333333333333\n",
      "243.0 402.8333333333333\n",
      "250.0 520.0\n",
      "ITOG (70726, 12)\n",
      "ITOG (68246, 12)\n",
      "              1           2           3      4\n",
      "beg   76.000000  256.000000  243.000000  250.0\n",
      "end  122.083333  447.833333  402.833333  520.0\n"
     ]
    },
    {
     "data": {
      "application/vnd.jupyter.widget-view+json": {
       "model_id": "adbd6a6d0f094ea39d766cfe99917685",
       "version_major": 2,
       "version_minor": 0
      },
      "text/plain": [
       "  0%|          | 0/7 [00:00<?, ?it/s]"
      ]
     },
     "metadata": {},
     "output_type": "display_data"
    },
    {
     "name": "stdout",
     "output_type": "stream",
     "text": [
      "Значение барометрического коэффициента1 -0.5874703560509996 + 0.03127693275760209 \n",
      "Значение барометрического коэффициента2 -2.9993261456603455 + 0.07558016819983582 \n",
      "Значение барометрического коэффициента3 -2.6236240946328384 + 0.06339873395797317 \n",
      "Значение барометрического коэффициента4 -3.249027741907499 + 0.07302474188865733 \n"
     ]
    }
   ],
   "source": [
    "new_names = ['Neutr1', 'Neutr2', 'Neutr3', 'Neutr4','Pressure', 'T, C', 'Humidity', 'D', 'M', 'Y', 'H','date']\n",
    "Itog = pd.read_csv(PATH+ r\"\\1h\\Result_corrected_step1_1h.txt\", names = new_names, delim_whitespace = True)\n",
    "Itog['date'] = pd.to_datetime(Itog['date'])\n",
    "# Для часового разбиения\n",
    "allcoeff = pd.DataFrame()\n",
    "otrez = pd.DataFrame()\n",
    "\n",
    "print('Границы для 3 сигм')\n",
    "#Постороение гистограмм по темпу счета\n",
    "for i in range(1,5,1):\n",
    "    plt.figure(figsize = (15, 15))\n",
    "    plt.grid(True, linestyle='--', color='0.75')\n",
    "    plt.xlabel('Относительный темп счета', size = '14')\n",
    "    plt.ylabel('Число таких значений', size = '14')\n",
    "    plt.title('Распределение темпа счета для детектора %s' %i, size = '16')\n",
    "    xdata=np.linspace(Itog['Neutr%s'%i].min(), Itog['Neutr%s'%i].max(), num=100)\n",
    "    ydata=(Itog['Neutr%s'%i].value_counts(normalize=False, sort=False, ascending = True, bins=100, dropna=False))\n",
    "    plt.step(xdata, ydata, 'g', label = u'Исходные данные', where = 'mid', linewidth = 3)    \n",
    "    \n",
    "    #Все данные\n",
    "    newx = np.linspace(Itog['Neutr%s'%i].min(), Itog['Neutr%s'%i].max(), num=100)\n",
    "    popt, pcov = curve_fit(func_gauss, xdata, ydata, p0=[10, xdata.mean(), 5000])#, method = 'lm')\n",
    "    plt.plot(newx, func_gauss(newx, *popt), 'r-', label=u'Аппроксимация Гауссом',linewidth = 3)  \n",
    "    \n",
    "    #Скорректированные данные\n",
    "    beg = Itog[Itog['Neutr%s'%i]>=(popt[1]-3*math.fabs(popt[0]))][Itog['Neutr%s'%i]<=(popt[1]+3*math.fabs(popt[0]))]['Neutr%s'%i].min()\n",
    "    end = Itog[Itog['Neutr%s'%i]>=(popt[1]-3*math.fabs(popt[0]))][Itog['Neutr%s'%i]<=(popt[1]+3*math.fabs(popt[0]))]['Neutr%s'%i].max()\n",
    "    otrez.loc['beg', i] = beg\n",
    "    otrez.loc['end', i] = end\n",
    "    newx = np.linspace(beg, end, num=100)\n",
    "    plt.plot(newx, func_gauss(newx, *popt), 'b-', label=u'Используемые данные', linewidth = 3)\n",
    "    plt.legend(title='Обозначения')\n",
    "    \n",
    "    #Доп инфа\n",
    "    plt.text(1.2,ydata.max()/2+500, 'Сигма %f' %(math.fabs(popt[0])),size = '14')\n",
    "    plt.text(1.2,ydata.max()/2, 'Среднее %f' %(popt[1]), size = '14')\n",
    "    plt.text(1.2,ydata.max()/2-500, '(%f;%f)' %(beg,end), size = '14')\n",
    "    print(beg, end)\n",
    "    plt.savefig(PATH+ r\"/pictures/3sigmas-det_%s.png\" %i ) \n",
    "    plt.close()\n",
    "\n",
    "    \n",
    "# Чистка в пределах 3 сигм\n",
    "print(\"ITOG\", Itog.shape)\n",
    "Itog = Itog[Itog['Neutr1']>=otrez.loc['beg',1]]\n",
    "Itog = Itog[Itog['Neutr2']>=otrez.loc['beg',2]]\n",
    "Itog = Itog[Itog['Neutr3']>=otrez.loc['beg',3]]\n",
    "Itog = Itog[Itog['Neutr4']>=otrez.loc['beg',4]]\n",
    "Itog = Itog[Itog['Neutr1']<=otrez.loc['end',1]]\n",
    "Itog = Itog[Itog['Neutr2']<=otrez.loc['end',2]]\n",
    "Itog = Itog[Itog['Neutr3']<=otrez.loc['end',3]]\n",
    "Itog = Itog[Itog['Neutr4']<=otrez.loc['end',4]]\n",
    "print(\"ITOG\", Itog.shape)\n",
    "print(otrez)\n",
    "\n",
    "# Построение барометрического коэффициента для для каждого месяца из данных\n",
    "index = 0\n",
    "for l in tqdm( range (2012,2019,1) ):\n",
    "    for i in range (1,13,1):\n",
    "        if ( Itog[Itog['M'] == i][Itog['Y'] == l].shape[0] > 1 ) :\n",
    "            plt.figure(figsize = (21, 21))\n",
    "            \n",
    "            for j in range(1,5,1):\n",
    "\n",
    "                y = Itog[Itog['M'] == i][Itog['Y'] == l]['Neutr%s'%j]\n",
    "                x = Itog[Itog['M'] == i][Itog['Y'] == l]['Pressure' ]\n",
    "                popt, pcov = curve_fit(func_linear,x,y)\n",
    "                dis = np.linspace(x.min(),x.max(),num=100)\n",
    "                allcoeff.loc[index, 'Neutr%s'%j] = popt[0]\n",
    "                allcoeff.loc[index, 'Err%s'%j] = pcov[0,0]**(1/2)\n",
    "                allcoeff.loc[index, 'date'] = pd.to_datetime(str(i) + '-' + str(l))\n",
    "                \n",
    "                plt.subplot(2,2,j)\n",
    "                plt.grid(True, linestyle='--', color='0.75')\n",
    "                plt.xlabel('Давление, мм рт ст', size = '14')\n",
    "                plt.ylabel('Относительный темп счета', size = '14')\n",
    "                plt.title('Рассчеты для детектора с номером %d' %(j), size = '16')\n",
    "                plt.plot(x, y, '.', label = u'Реальные значения')\n",
    "                plt.text(x.min(), y.min() + 0.08*y.min() , 'y = %f*x + %f' %(popt[0], popt[1]), size = '14')\n",
    "                plt.plot(dis, popt[0]*(dis) + popt[1], 'r', label=u'Аппроксимация прямой', linewidth = 3)\n",
    "                plt.legend(title='Обозначения:')\n",
    "                \n",
    "            plt.savefig(PATH+ r\"/pictures/%s/bar_coef_month%s.png\" %(str(l),str(i))) \n",
    "            plt.close()\n",
    "            index +=1\n",
    "            \n",
    "\n",
    "#Постороение темпа счета по времени\n",
    "for i in range(1,5,1):\n",
    "    plt.figure(figsize = (21, 10))\n",
    "    plt.grid(True, linestyle='--', color='0.75')\n",
    "    plt.xlabel('Время', size = '14')\n",
    "    plt.ylabel('Относительный темп счета', size = '14')\n",
    "    plt.title('Зависимость темпа счета от времени для детектора %s' %i, size = '16')\n",
    "    plt.plot(Itog['date'],Itog['Neutr%s' %i],  '.')\n",
    "    plt.savefig(PATH+ r\"/pictures/N_abs-date-det_%s.png\" %i ) \n",
    "    plt.close()\n",
    "    \n",
    "allcoeff.to_csv(PATH+ r\"/barometric_coeff.txt\", sep = ' ', header = False, index = False, mode ='w')\n",
    "# Нахождение среднего значения барометрического коэффициента и его погрешности\n",
    "allcoeff.dropna(inplace = True)\n",
    "allcoeff = allcoeff[allcoeff['Neutr1'] < -0.00025][allcoeff['Neutr2'] < -0.00025][allcoeff['Neutr3'] < -0.00025][allcoeff['Neutr4'] < -0.00025]\n",
    "\n",
    "for i in range(1,5,1):\n",
    "    plt.figure(figsize = (15, 15))\n",
    "    plt.grid(True, linestyle='--', color='0.75')\n",
    "    plt.xlabel('Барометрический коэффициент', size = '14')\n",
    "    plt.ylabel('Число таких значений', size = '14')\n",
    "    plt.title('Распределение борометрического коэффициента для детектора %s' %i, size = '16')\n",
    "    xdata=np.linspace(allcoeff['Neutr%s'%i].min(), allcoeff['Neutr%s'%i].max(), num=20)\n",
    "    ydata=(allcoeff['Neutr%s'%i].value_counts(normalize=False, sort=False, ascending = True, bins=20, dropna=False))\n",
    "    plt.step(xdata, ydata, 'g', label = u'Исходные данные', where = 'mid')\n",
    "    plt.savefig(PATH+ r\"/pictures/coeff-plot-det_%s.png\" %i ) \n",
    "    plt.close()\n",
    "    vzves_bar = sum( allcoeff['Neutr%s'%i]*(allcoeff['Neutr%s'%i]/allcoeff['Err%s'%i])**2/\n",
    "                 sum((allcoeff['Neutr%s'%i]/allcoeff['Err%s'%i])**2) )\n",
    "    \n",
    "    allcoeff['weight%s' %i] = (allcoeff['Neutr%s'%i]/allcoeff['Err%s'%i])**2/sum((allcoeff['Neutr%s'%i]/allcoeff['Err%s'%i])**2)\n",
    "    \n",
    "    vzves_err = sum( allcoeff['Err%s'%i]*(allcoeff['Neutr%s'%i]/allcoeff['Err%s'%i])**2/\n",
    "                 sum((allcoeff['Neutr%s'%i]/allcoeff['Err%s'%i])**2) )\n",
    "    #print('Значение барометрического коэффициента%s %s + %s ' %(i, allcoeff['Neutr%s'%i], allcoeff['Err%s'%i].mean())  )  \n",
    "    print('Значение барометрического коэффициента%s %s + %s ' %(i, vzves_bar,   vzves_err)  )\n",
    "    \n",
    "\n",
    "    \n",
    "#Постороение графика зависимости барометрического коэффициента от времени\n",
    "for i in range(1,5,1):\n",
    "    plt.figure(figsize = (21, 10))\n",
    "    plt.grid(True, linestyle='--', color='0.75')\n",
    "    plt.xlabel('Время', size = '14')\n",
    "    plt.ylabel('Барометрический коэффициент', size = '14')\n",
    "    plt.title('Зависимость барометрического коэффициента от времени для детектора %s' %i, size = '16')\n",
    "    plt.plot(allcoeff['date'],allcoeff['Neutr%s' %i],  '.', label = u'Реальные значения')\n",
    "    plt.plot( \n",
    "        [allcoeff['date'].min(),allcoeff['date'].max()], \n",
    "        [allcoeff['Neutr%s'%i].mean(),allcoeff['Neutr%s'%i].mean()],\n",
    "        '-', label = u'Среднее значение за все время'\n",
    "    )\n",
    "    plt.legend(title='Обозначения:')\n",
    "    plt.savefig(PATH+ r\"\\pictures/PT-date-det_%s.png\" %i ) \n",
    "    plt.close() \n",
    "Itog.to_csv(PATH+ r\"\\1h/Result_corrected_step1_average_1h.txt\", sep = ' ', header = False, index = False, mode ='w')"
   ]
  },
  {
   "cell_type": "markdown",
   "metadata": {
    "scrolled": true
   },
   "source": [
    "## Построение датафрейма очищенного\n",
    "### Поправка на барометрический коэффициент"
   ]
  },
  {
   "cell_type": "code",
   "execution_count": 31,
   "metadata": {
    "scrolled": true
   },
   "outputs": [
    {
     "data": {
      "application/vnd.jupyter.widget-view+json": {
       "model_id": "092323fe46694818ad96dcdf4ae198c0",
       "version_major": 2,
       "version_minor": 0
      },
      "text/plain": [
       "  0%|          | 0/7 [00:00<?, ?it/s]"
      ]
     },
     "metadata": {},
     "output_type": "display_data"
    }
   ],
   "source": [
    "new_names = ['Neutr1', 'Neutr2', 'Neutr3', 'Neutr4','Pressure', 'T, C', 'Humidity', 'D', 'M', 'Y', 'H', 'date']\n",
    "Itog = pd.read_csv(PATH+ r\"\\1h\\Result_corrected_step1_average_1h.txt\", names = new_names, delim_whitespace = True)\n",
    "allcoeff = pd.DataFrame()\n",
    "Itog['date'] = pd.to_datetime(Itog['date'])\n",
    "# Расчет барометрического коэффициента\n",
    "index = 0\n",
    "for l in tqdm( range (2012,2019,1) ):\n",
    "    for i in range (1,13,1):\n",
    "        if ( Itog[Itog['M'] == i][Itog['Y'] == l].shape[0] > 1 ) :                        \n",
    "            plt.figure(figsize = (21, 21))\n",
    "                        \n",
    "            for j in range(1,5,1):\n",
    "                #Выделение данных\n",
    "                y = Itog[Itog['M'] == i][Itog['Y'] == l]['Neutr%s'%j]\n",
    "                x = Itog[Itog['M'] == i][Itog['Y'] == l]['Pressure' ]\n",
    "                \n",
    "                #Рассчет аппроксимации и нахождение барометрического коэффициента\n",
    "                allcoeff.loc[index, 'date'] = pd.to_datetime(str(i) + '-' + str(l))\n",
    "                popt, pcov = curve_fit(func_linear,x,y)\n",
    "                allcoeff.loc[index, 'Neutr%s'%j] = popt[0]\n",
    "                allcoeff.loc[index, 'Err%s'%j] = pcov[0,0]**(1/2)\n",
    "                allcoeff.loc[index, 'B%s'%j] = popt[1]\n",
    "                \n",
    "                # Поправка на давление, нормировка\n",
    "                Itog.loc[ (Itog['M'] == i) & (Itog['Y'] == l),'Neutr%s'%j] = y - popt[0]*x*y + y*popt[0]*Itog[Itog['M'] ==i][Itog['Y']==l]['Pressure'].mean()\n",
    "                beg_mean = Itog[Itog['M'] ==i][Itog['Y']==l]['Neutr%s'%j].mean()                \n",
    "                Itog.loc[ (Itog['M'] == i) & (Itog['Y'] == l),'Neutr%s'%j] = Itog[Itog['M'] ==i][Itog['Y']==l]['Neutr%s'%j]/beg_mean\n",
    "                \n",
    "                #Построение поправленных данных для темпа счета\n",
    "                plt.subplot(2,2,j)\n",
    "                plt.grid(True, linestyle='--', color='0.75')\n",
    "                plt.xlabel('Поправленнные данные с детектора %s' %j, size = '14')\n",
    "                plt.ylabel('Число значений', size = '14')\n",
    "                plt.title('Гистограмма по поправленным значениям относительного темпа счета', size = '16')\n",
    "                xdata=np.linspace(Itog[Itog['M'] == i][Itog['Y'] == l]['Neutr%s'%j].min(), Itog[Itog['M'] == i][Itog['Y'] == l]['Neutr%s'%j].max(), num=20)\n",
    "                ydata=(Itog[Itog['M'] == i][Itog['Y'] == l]['Neutr%s'%j].value_counts(normalize=False, sort=False, ascending = True, bins=20, dropna=False))\n",
    "                plt.step(xdata, ydata, 'g', label = u'Исходные данные', where = 'mid')\n",
    "            plt.savefig(PATH+ r\"\\pictures/%s/%s.png\" %(str(l),str(i))) \n",
    "            plt.close()\n",
    "            index +=1\n",
    "            \n",
    "Itog.to_csv(PATH+ r\"/1h/Result_corrected_step2_average_1h.txt\", sep = ' ', header = False, index = False, mode ='w')"
   ]
  },
  {
   "cell_type": "code",
   "execution_count": 32,
   "metadata": {
    "scrolled": false
   },
   "outputs": [
    {
     "data": {
      "text/plain": [
       "[<matplotlib.lines.Line2D at 0x1c7bd8678c8>]"
      ]
     },
     "execution_count": 32,
     "metadata": {},
     "output_type": "execute_result"
    },
    {
     "data": {
      "image/png": "[encoded data removed]",
      "text/plain": [
       "<Figure size 1080x720 with 1 Axes>"
      ]
     },
     "metadata": {
      "needs_background": "light"
     },
     "output_type": "display_data"
    }
   ],
   "source": [
    "plt.figure(figsize = (15,10))\n",
    "plt.style.use('ggplot')  # Красивые графики\n",
    "plt.grid(True, linestyle='--', color='0.75')\n",
    "y = Itog[Itog['M']==3][Itog['Y']==2012]['Neutr2']\n",
    "x = Itog[Itog['M']==3][Itog['Y']==2012]['date']\n",
    "plt.plot(x, y, '-')"
   ]
  },
  {
   "cell_type": "code",
   "execution_count": 33,
   "metadata": {},
   "outputs": [
    {
     "data": {
      "application/vnd.jupyter.widget-view+json": {
       "model_id": "dd0cf7b6126941d89c635aaa006ae974",
       "version_major": 2,
       "version_minor": 0
      },
      "text/plain": [
       "  0%|          | 0/7 [00:00<?, ?it/s]"
      ]
     },
     "metadata": {},
     "output_type": "display_data"
    },
    {
     "data": {
      "application/vnd.jupyter.widget-view+json": {
       "model_id": "185aef1b6eb64f85872d9282c23f08fc",
       "version_major": 2,
       "version_minor": 0
      },
      "text/plain": [
       "  0%|          | 0/7 [00:00<?, ?it/s]"
      ]
     },
     "metadata": {},
     "output_type": "display_data"
    }
   ],
   "source": [
    "#Построение графиков для детекторов от времени\n",
    "for l in tqdm( range (2012,2019,1) ):\n",
    "    if ( Itog[Itog['Y'] == l].shape[0] > 1 ) :     \n",
    "        plt.figure(figsize = (40, 20))\n",
    "        x = Itog[Itog['Y'] == l]\n",
    "        for j in range(1,5,1):\n",
    "            plt.subplot(2,2,j)\n",
    "            plt.grid(True, linestyle='--', color='0.75')\n",
    "            plt.xlabel('Время', size = '14')\n",
    "            plt.ylabel('Поправленные данные', size = '14')\n",
    "            plt.title('Зависимость темпа счета от времени', size = '16')\n",
    "            plt.plot(x['date'], x['Neutr%s'%j]/x['Neutr%s'%j].mean(), '.')\n",
    "    plt.savefig(PATH+ r\"/pictures/%s/times_corr.png\" %( str(l) ) ) \n",
    "    plt.close()\n",
    "\n",
    "#Построение графиков для детекторов от времени\n",
    "for l in tqdm( range (2012,2019,1) ):\n",
    "    for i in range (1,13,1):\n",
    "        if ( Itog[Itog['M'] == i][Itog['Y'] == l].shape[0] > 1 ) :                        \n",
    "            plt.figure(figsize = (16, 16))\n",
    "            x = Itog[Itog['M'] == i][Itog['Y'] == l]\n",
    "            for j in range(1,5,1):\n",
    "                plt.subplot(2,2,j)\n",
    "                plt.grid(True, linestyle='--', color='0.75')\n",
    "                plt.xlabel('Время', size = '14')\n",
    "                plt.ylabel('Поправленные данные', size = '14')\n",
    "                plt.title('Зависимость темпа счета от времени', size = '16')\n",
    "                plt.plot(x['date'], x['Neutr%s'%j], '.')\n",
    "            plt.savefig(PATH+ r\"/pictures/%s/time_%s.png\" %(str(l),str(i))) \n",
    "            plt.close()"
   ]
  },
  {
   "cell_type": "code",
   "execution_count": 34,
   "metadata": {
    "scrolled": true
   },
   "outputs": [
    {
     "data": {
      "application/vnd.jupyter.widget-view+json": {
       "model_id": "3c27037b4f98437c9175679a5a274e81",
       "version_major": 2,
       "version_minor": 0
      },
      "text/plain": [
       "  0%|          | 0/7 [00:00<?, ?it/s]"
      ]
     },
     "metadata": {},
     "output_type": "display_data"
    }
   ],
   "source": [
    "#Построение графиков для детекторов от температуры\n",
    "for l in tqdm( range (2012,2019,1) ):\n",
    "    for i in range (1,13,1):\n",
    "        if ( Itog[Itog['M'] == i][Itog['Y'] == l].shape[0] > 1 ) :                        \n",
    "            plt.figure(figsize = (16, 16))\n",
    "            x = Itog[Itog['M'] == i][Itog['Y'] == l]\n",
    "            for j in range(1,5,1):\n",
    "                plt.subplot(2,2,j)\n",
    "                plt.grid(True, linestyle='--', color='0.75')\n",
    "                plt.xlabel('T, C', size = '14')\n",
    "                plt.ylabel('Поправленные данные', size = '14')\n",
    "                plt.title('Зависимость темпа счета от температуры', size = '16')\n",
    "                plt.plot(x['T, C'], x['Neutr%s'%j], '.')\n",
    "            plt.savefig(PATH+ r\"/pictures/%s/T0_%s.png\" %(str(l),str(i))) \n",
    "            plt.close()"
   ]
  },
  {
   "cell_type": "code",
   "execution_count": 35,
   "metadata": {
    "scrolled": false
   },
   "outputs": [
    {
     "data": {
      "application/vnd.jupyter.widget-view+json": {
       "model_id": "788b873d895a48e7a6d18078fe926b78",
       "version_major": 2,
       "version_minor": 0
      },
      "text/plain": [
       "  0%|          | 0/7 [00:00<?, ?it/s]"
      ]
     },
     "metadata": {},
     "output_type": "display_data"
    }
   ],
   "source": [
    "#Построение графиков для детекторов от влажности\n",
    "for l in tqdm( range (2012,2019,1) ):\n",
    "    for i in range (1,13,1):\n",
    "        if ( Itog[Itog['M'] == i][Itog['Y'] == l].shape[0] > 1 ) :                        \n",
    "            plt.figure(figsize = (16, 16))\n",
    "            x = Itog[Itog['M'] == i][Itog['Y'] == l]\n",
    "            for j in range(1,5,1):\n",
    "                plt.subplot(2,2,j)\n",
    "                plt.grid(True, linestyle='--', color='0.75')\n",
    "                plt.xlabel('Влажность', size = '14')\n",
    "                plt.ylabel('Поправленные данные', size = '14')\n",
    "                plt.title('Зависимость темпа счета от влажности', size = '16')\n",
    "                plt.plot(x['Humidity'], x['Neutr%s'%j], '.')\n",
    "            plt.savefig(PATH+ r\"/pictures/%s/Hum_%s.png\" %(str(l),str(i))) \n",
    "            plt.close()"
   ]
  },
  {
   "cell_type": "code",
   "execution_count": 36,
   "metadata": {
    "scrolled": true
   },
   "outputs": [
    {
     "data": {
      "application/vnd.jupyter.widget-view+json": {
       "model_id": "6dcc901d70074b4e932e67faf17fd364",
       "version_major": 2,
       "version_minor": 0
      },
      "text/plain": [
       "  0%|          | 0/7 [00:00<?, ?it/s]"
      ]
     },
     "metadata": {},
     "output_type": "display_data"
    }
   ],
   "source": [
    "#Построение графиков для детекторов от давления\n",
    "for l in tqdm( range (2012,2019,1) ):\n",
    "    for i in range (1,13,1):\n",
    "        if ( Itog[Itog['M'] == i][Itog['Y'] == l].shape[0] > 1 ) :                        \n",
    "            plt.figure(figsize = (16, 16))\n",
    "            x = Itog[Itog['M'] == i][Itog['Y'] == l]\n",
    "            for j in range(1,5,1):\n",
    "                plt.subplot(2,2,j)\n",
    "                plt.grid(True, linestyle='--', color='0.75')\n",
    "                plt.xlabel('Давление', size = '14')\n",
    "                plt.ylabel('Поправленные данные', size = '14')\n",
    "                plt.title('Зависимость темпа счета от давления', size = '16')\n",
    "                plt.plot(x['Pressure'], x['Neutr%s'%j], '.')\n",
    "            plt.savefig(PATH+ r\"/pictures/%s/Pres_%s.png\" %(str(l),str(i))) \n",
    "            plt.close()"
   ]
  },
  {
   "cell_type": "code",
   "execution_count": 37,
   "metadata": {
    "scrolled": true
   },
   "outputs": [
    {
     "data": {
      "application/vnd.jupyter.widget-view+json": {
       "model_id": "6ea98d3c7b34484c9d3da1d0d95bb613",
       "version_major": 2,
       "version_minor": 0
      },
      "text/plain": [
       "  0%|          | 0/7 [00:00<?, ?it/s]"
      ]
     },
     "metadata": {},
     "output_type": "display_data"
    }
   ],
   "source": [
    "#Построение графиков для давления от времени\n",
    "for l in tqdm( range (2012,2019,1) ):\n",
    "    for i in range (1,13,1):\n",
    "        if ( Itog[Itog['M'] == i][Itog['Y'] == l].shape[0] > 1 ) :                        \n",
    "            plt.figure(figsize = (10, 10))\n",
    "            x = Itog[Itog['M'] == i][Itog['Y'] == l]\n",
    "            plt.grid(True, linestyle='--', color='0.75')\n",
    "            plt.xlabel('Дата', size = '14')\n",
    "            plt.ylabel('Давление', size = '14')\n",
    "            plt.title('Зависимость давления от времени', size = '16')\n",
    "            plt.plot(x['date'], x['Pressure'], '.')\n",
    "            plt.savefig(PATH+ r\"/pictures/%s/Pres-date%s.png\" %(str(l),str(i))) \n",
    "            plt.close()"
   ]
  },
  {
   "cell_type": "code",
   "execution_count": 38,
   "metadata": {
    "scrolled": true
   },
   "outputs": [
    {
     "data": {
      "application/vnd.jupyter.widget-view+json": {
       "model_id": "e78a53165c834269919b071cb38a8dbf",
       "version_major": 2,
       "version_minor": 0
      },
      "text/plain": [
       "  0%|          | 0/7 [00:00<?, ?it/s]"
      ]
     },
     "metadata": {},
     "output_type": "display_data"
    }
   ],
   "source": [
    "#Построение графиков для влажности от времени\n",
    "for l in tqdm( range (2012,2019,1) ):\n",
    "    for i in range (1,13,1):\n",
    "        if ( Itog[Itog['M'] == i][Itog['Y'] == l].shape[0] > 1 ) :                        \n",
    "            plt.figure(figsize = (10, 10))\n",
    "            x = Itog[Itog['M'] == i][Itog['Y'] == l]\n",
    "            plt.grid(True, linestyle='--', color='0.75')\n",
    "            plt.xlabel('Дата', size = '14')\n",
    "            plt.ylabel('Влажность', size = '14')\n",
    "            plt.title('Зависимость влажности от времени', size = '16')\n",
    "            plt.plot(x['date'], x['Humidity'], '.')\n",
    "            plt.savefig(PATH+ r\"/pictures/%s/Hum-date%s.png\" %(str(l),str(i))) \n",
    "            plt.close()"
   ]
  },
  {
   "cell_type": "code",
   "execution_count": 39,
   "metadata": {
    "scrolled": true
   },
   "outputs": [
    {
     "data": {
      "application/vnd.jupyter.widget-view+json": {
       "model_id": "96a3cf8fd17146729103f9453b83195e",
       "version_major": 2,
       "version_minor": 0
      },
      "text/plain": [
       "  0%|          | 0/7 [00:00<?, ?it/s]"
      ]
     },
     "metadata": {},
     "output_type": "display_data"
    }
   ],
   "source": [
    "#Построение графиков для температуры от времени\n",
    "for l in tqdm( range (2012,2019,1) ):\n",
    "    for i in range (1,13,1):\n",
    "        if ( Itog[Itog['M'] == i][Itog['Y'] == l].shape[0] > 1 ) :                        \n",
    "            plt.figure(figsize = (10, 10))\n",
    "            x = Itog[Itog['M'] == i][Itog['Y'] == l]\n",
    "            plt.grid(True, linestyle='--', color='0.75')\n",
    "            plt.xlabel('Дата', size = '14')\n",
    "            plt.ylabel('Температура', size = '14')\n",
    "            plt.title('Зависимость температуры от времени', size = '16')\n",
    "            plt.plot(x['date'], x['T, C'], '.')\n",
    "            plt.savefig(PATH+ r\"/pictures/%s/T0-date%s.png\" %(str(l),str(i))) \n",
    "            plt.close()"
   ]
  },
  {
   "cell_type": "code",
   "execution_count": null,
   "metadata": {},
   "outputs": [],
   "source": []
  }
 ],
 "metadata": {
  "kernelspec": {
   "display_name": "Python 3",
   "language": "python",
   "name": "python3"
  },
  "language_info": {
   "codemirror_mode": {
    "name": "ipython",
    "version": 3
   },
   "file_extension": ".py",
   "mimetype": "text/x-python",
   "name": "python",
   "nbconvert_exporter": "python",
   "pygments_lexer": "ipython3",
   "version": "3.7.6"
  }
 },
 "nbformat": 4,
 "nbformat_minor": 2
}
